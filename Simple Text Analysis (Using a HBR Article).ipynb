{
 "cells": [
  {
   "cell_type": "markdown",
   "metadata": {},
   "source": [
    "## Purpose: Let's see what we can gather from analyzing an article about \"Why open secrets exist in organizations\" from text analysis alone"
   ]
  },
  {
   "cell_type": "markdown",
   "metadata": {},
   "source": [
    "Article: https://hbr.org/2019/01/why-open-secrets-exist-in-organizations\n",
    "\n",
    "Referenced Code from: https://towardsdatascience.com/very-simple-python-script-for-extracting-most-common-words-from-a-story-1e3570d0b9d0"
   ]
  },
  {
   "cell_type": "markdown",
   "metadata": {},
   "source": [
    "### Here we go with the python script!"
   ]
  },
  {
   "cell_type": "code",
   "execution_count": 2,
   "metadata": {},
   "outputs": [
    {
     "name": "stdout",
     "output_type": "stream",
     "text": [
      "How many most common words to print: 25\n",
      "\n",
      "OK. The 25 most common words are as follows\n",
      "\n",
      "issue :  15\n",
      "employees :  10\n",
      "managers :  10\n",
      "less :  8\n",
      "speak :  8\n",
      "speaking :  7\n",
      "aware :  7\n",
      "issues :  6\n",
      "one :  6\n",
      "bystander :  6\n",
      "effect :  6\n",
      "others :  6\n",
      "responsibility :  6\n",
      "problems :  6\n",
      "peers :  6\n",
      "problem :  5\n",
      "team :  5\n",
      "company :  5\n",
      "likely :  5\n",
      "also :  5\n",
      "students :  5\n",
      "organizations :  4\n",
      "know :  4\n",
      "management :  4\n",
      "found :  4\n"
     ]
    },
    {
     "data": {
      "text/plain": [
       "<matplotlib.axes._subplots.AxesSubplot at 0x1764cc475f8>"
      ]
     },
     "execution_count": 2,
     "metadata": {},
     "output_type": "execute_result"
    },
    {
     "data": {
      "image/png": "[encoded data removed]",
      "text/plain": [
       "<Figure size 432x288 with 1 Axes>"
      ]
     },
     "metadata": {},
     "output_type": "display_data"
    }
   ],
   "source": [
    "import collections\n",
    "import pandas as pd\n",
    "import matplotlib.pyplot as plt\n",
    "%matplotlib inline\n",
    "from nltk.corpus import stopwords\n",
    "\n",
    "# Read input file, note the encoding is specified here \n",
    "# It may be different in your text file\n",
    "file = open('opensecrets.txt', encoding=\"utf8\")\n",
    "a= file.read()\n",
    "\n",
    "# Instantiate a dictionary, and for every word in the file, \n",
    "# Add to the dictionary if it doesn't exist. If it does, increase the count.\n",
    "wordcount = {}\n",
    "\n",
    "# To eliminate duplicates, remember to split by punctuation, and use case demiliters.\n",
    "for word in a.lower().split():\n",
    "    word = word.replace(\".\",\"\")\n",
    "    word = word.replace(\",\",\"\")\n",
    "    word = word.replace(\":\",\"\")\n",
    "    word = word.replace(\"\\\"\",\"\")\n",
    "    word = word.replace(\"!\",\"\")\n",
    "    word = word.replace(\"â€œ\",\"\")\n",
    "    word = word.replace(\"â€˜\",\"\")\n",
    "    word = word.replace(\"*\",\"\")\n",
    "    if word not in stopwords.words(\"english\"):\n",
    "        if word not in wordcount:\n",
    "            wordcount[word] = 1\n",
    "        else:\n",
    "            wordcount[word] += 1\n",
    "            \n",
    "# Print most common word\n",
    "n_print = int(input(\"How many most common words to print: \"))\n",
    "print(\"\\nOK. The {} most common words are as follows\\n\".format(n_print))\n",
    "word_counter = collections.Counter(wordcount)\n",
    "for word, count in word_counter.most_common(n_print):\n",
    "    print(word, \": \", count)\n",
    "    \n",
    "# Close the file\n",
    "file.close()\n",
    "\n",
    "# Create a data frame of the most common words \n",
    "# Draw a bar chart\n",
    "lst = word_counter.most_common(n_print)\n",
    "df = pd.DataFrame(lst, columns = ['Word', 'Count'])\n",
    "df.plot.bar(x='Word',y='Count')"
   ]
  },
  {
   "cell_type": "markdown",
   "metadata": {},
   "source": [
    "### Summary: Purely based on the most common word count here, employees have issues with their managers (of course they do) but also there seems to a level of accountability and responsibility with their peers.\n",
    "\n",
    "Insight: Peers and other co-workers are just as important to why \"open secrets\" exist. Otherwise, why would it be open and not just a secret."
   ]
  },
  {
   "cell_type": "code",
   "execution_count": 7,
   "metadata": {},
   "outputs": [
    {
     "data": {
      "text/plain": [
       "[(('\\ufeffin', '2017'), 1),\n",
       " (('2017', 'new'), 1),\n",
       " (('new', 'york'), 1),\n",
       " (('york', 'times'), 1),\n",
       " (('times', 'broke'), 1),\n",
       " (('broke', 'widely-known'), 1),\n",
       " (('widely-known', 'scandal'), 1),\n",
       " (('scandal', 'media'), 1),\n",
       " (('media', 'mogul'), 1),\n",
       " (('mogul', 'harvey'), 1)]"
      ]
     },
     "execution_count": 7,
     "metadata": {},
     "output_type": "execute_result"
    }
   ],
   "source": [
    "import nltk\n",
    "\n",
    "bigrm = nltk.bigrams(word_counter)\n",
    "fdist = nltk.FreqDist(bigrm)\n",
    "fdist.most_common(10)"
   ]
  },
  {
   "cell_type": "markdown",
   "metadata": {},
   "source": [
    "## Next Steps\n",
    "* Use TFIDF to find important terms that the article references (find terms that are not common)\n",
    "* Find People, Places, Things that the article references as seen from the bigrams (e.g. Harvey Weinstein and New York) "
   ]
  }
 ],
 "metadata": {
  "kernelspec": {
   "display_name": "Python 3",
   "language": "python",
   "name": "python3"
  },
  "language_info": {
   "codemirror_mode": {
    "name": "ipython",
    "version": 3
   },
   "file_extension": ".py",
   "mimetype": "text/x-python",
   "name": "python",
   "nbconvert_exporter": "python",
   "pygments_lexer": "ipython3",
   "version": "3.6.5"
  }
 },
 "nbformat": 4,
 "nbformat_minor": 2
}
